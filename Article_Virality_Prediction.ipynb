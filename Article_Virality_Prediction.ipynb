{
  "nbformat": 4,
  "nbformat_minor": 0,
  "metadata": {
    "colab": {
      "name": "Article Virality Prediction.ipynb",
      "provenance": []
    },
    "kernelspec": {
      "name": "python3",
      "display_name": "Python 3"
    }
  },
  "cells": [
    {
      "cell_type": "code",
      "metadata": {
        "id": "EuK1m260rCXI",
        "colab_type": "code",
        "outputId": "4b48dadd-bc1a-4a3a-ef9d-622ed59304bb",
        "colab": {
          "base_uri": "https://localhost:8080/",
          "height": 888
        }
      },
      "source": [
        "!pip3 install newspaper3k"
      ],
      "execution_count": 0,
      "outputs": [
        {
          "output_type": "stream",
          "text": [
            "Collecting newspaper3k\n",
            "\u001b[?25l  Downloading https://files.pythonhosted.org/packages/d7/b9/51afecb35bb61b188a4b44868001de348a0e8134b4dfa00ffc191567c4b9/newspaper3k-0.2.8-py3-none-any.whl (211kB)\n",
            "\u001b[K     |████████████████████████████████| 215kB 2.8MB/s \n",
            "\u001b[?25hRequirement already satisfied: nltk>=3.2.1 in /usr/local/lib/python3.6/dist-packages (from newspaper3k) (3.2.5)\n",
            "Requirement already satisfied: lxml>=3.6.0 in /usr/local/lib/python3.6/dist-packages (from newspaper3k) (4.2.6)\n",
            "Requirement already satisfied: beautifulsoup4>=4.4.1 in /usr/local/lib/python3.6/dist-packages (from newspaper3k) (4.6.3)\n",
            "Requirement already satisfied: requests>=2.10.0 in /usr/local/lib/python3.6/dist-packages (from newspaper3k) (2.21.0)\n",
            "Collecting jieba3k>=0.35.1\n",
            "\u001b[?25l  Downloading https://files.pythonhosted.org/packages/a9/cb/2c8332bcdc14d33b0bedd18ae0a4981a069c3513e445120da3c3f23a8aaa/jieba3k-0.35.1.zip (7.4MB)\n",
            "\u001b[K     |████████████████████████████████| 7.4MB 53.7MB/s \n",
            "\u001b[?25hRequirement already satisfied: python-dateutil>=2.5.3 in /usr/local/lib/python3.6/dist-packages (from newspaper3k) (2.8.1)\n",
            "Collecting tinysegmenter==0.3\n",
            "  Downloading https://files.pythonhosted.org/packages/17/82/86982e4b6d16e4febc79c2a1d68ee3b707e8a020c5d2bc4af8052d0f136a/tinysegmenter-0.3.tar.gz\n",
            "Requirement already satisfied: PyYAML>=3.11 in /usr/local/lib/python3.6/dist-packages (from newspaper3k) (3.13)\n",
            "Collecting tldextract>=2.0.1\n",
            "\u001b[?25l  Downloading https://files.pythonhosted.org/packages/fd/0e/9ab599d6e78f0340bb1d1e28ddeacb38c8bb7f91a1b0eae9a24e9603782f/tldextract-2.2.2-py2.py3-none-any.whl (48kB)\n",
            "\u001b[K     |████████████████████████████████| 51kB 7.8MB/s \n",
            "\u001b[?25hCollecting feedparser>=5.2.1\n",
            "\u001b[?25l  Downloading https://files.pythonhosted.org/packages/91/d8/7d37fec71ff7c9dbcdd80d2b48bcdd86d6af502156fc93846fb0102cb2c4/feedparser-5.2.1.tar.bz2 (192kB)\n",
            "\u001b[K     |████████████████████████████████| 194kB 54.6MB/s \n",
            "\u001b[?25hCollecting cssselect>=0.9.2\n",
            "  Downloading https://files.pythonhosted.org/packages/3b/d4/3b5c17f00cce85b9a1e6f91096e1cc8e8ede2e1be8e96b87ce1ed09e92c5/cssselect-1.1.0-py2.py3-none-any.whl\n",
            "Requirement already satisfied: Pillow>=3.3.0 in /usr/local/lib/python3.6/dist-packages (from newspaper3k) (7.0.0)\n",
            "Collecting feedfinder2>=0.0.4\n",
            "  Downloading https://files.pythonhosted.org/packages/35/82/1251fefec3bb4b03fd966c7e7f7a41c9fc2bb00d823a34c13f847fd61406/feedfinder2-0.0.4.tar.gz\n",
            "Requirement already satisfied: six in /usr/local/lib/python3.6/dist-packages (from nltk>=3.2.1->newspaper3k) (1.12.0)\n",
            "Requirement already satisfied: urllib3<1.25,>=1.21.1 in /usr/local/lib/python3.6/dist-packages (from requests>=2.10.0->newspaper3k) (1.24.3)\n",
            "Requirement already satisfied: certifi>=2017.4.17 in /usr/local/lib/python3.6/dist-packages (from requests>=2.10.0->newspaper3k) (2020.4.5.1)\n",
            "Requirement already satisfied: chardet<3.1.0,>=3.0.2 in /usr/local/lib/python3.6/dist-packages (from requests>=2.10.0->newspaper3k) (3.0.4)\n",
            "Requirement already satisfied: idna<2.9,>=2.5 in /usr/local/lib/python3.6/dist-packages (from requests>=2.10.0->newspaper3k) (2.8)\n",
            "Collecting requests-file>=1.4\n",
            "  Downloading https://files.pythonhosted.org/packages/77/86/cdb5e8eaed90796aa83a6d9f75cfbd37af553c47a291cd47bc410ef9bdb2/requests_file-1.5.1-py2.py3-none-any.whl\n",
            "Requirement already satisfied: setuptools in /usr/local/lib/python3.6/dist-packages (from tldextract>=2.0.1->newspaper3k) (46.1.3)\n",
            "Building wheels for collected packages: jieba3k, tinysegmenter, feedparser, feedfinder2\n",
            "  Building wheel for jieba3k (setup.py) ... \u001b[?25l\u001b[?25hdone\n",
            "  Created wheel for jieba3k: filename=jieba3k-0.35.1-cp36-none-any.whl size=7398406 sha256=43375c30bcf1f49a2c7d1b0aa8f34e43bab5836f84a4a7c631e7df091fb0fe9a\n",
            "  Stored in directory: /root/.cache/pip/wheels/83/15/9c/a3f1f67e7f7181170ad37d32e503c35da20627c013f438ed34\n",
            "  Building wheel for tinysegmenter (setup.py) ... \u001b[?25l\u001b[?25hdone\n",
            "  Created wheel for tinysegmenter: filename=tinysegmenter-0.3-cp36-none-any.whl size=13539 sha256=a595dc2cc30a894e3c5bb4d97f7c055260e39ad0550878ad72ab617a5c46a58c\n",
            "  Stored in directory: /root/.cache/pip/wheels/81/2b/43/a02ede72324dd40cdd7ca53aad718c7710628e91b8b0dc0f02\n",
            "  Building wheel for feedparser (setup.py) ... \u001b[?25l\u001b[?25hdone\n",
            "  Created wheel for feedparser: filename=feedparser-5.2.1-cp36-none-any.whl size=44940 sha256=d8d202a76f130998c22b08c1c7ea56dda458d2ca6246c674bb0c21d4d9c524e1\n",
            "  Stored in directory: /root/.cache/pip/wheels/8c/69/b7/f52763c41c5471df57703a0ef718a32a5e81ee35dcf6d4f97f\n",
            "  Building wheel for feedfinder2 (setup.py) ... \u001b[?25l\u001b[?25hdone\n",
            "  Created wheel for feedfinder2: filename=feedfinder2-0.0.4-cp36-none-any.whl size=3357 sha256=9bfbb58df8499e95a25156a02e4c61ce3946d71df20e01b05ad00157c6789c49\n",
            "  Stored in directory: /root/.cache/pip/wheels/de/03/ca/778e3a7a627e3d98836cc890e7cb40c7575424cfd3340f40ed\n",
            "Successfully built jieba3k tinysegmenter feedparser feedfinder2\n",
            "Installing collected packages: jieba3k, tinysegmenter, requests-file, tldextract, feedparser, cssselect, feedfinder2, newspaper3k\n",
            "Successfully installed cssselect-1.1.0 feedfinder2-0.0.4 feedparser-5.2.1 jieba3k-0.35.1 newspaper3k-0.2.8 requests-file-1.5.1 tinysegmenter-0.3 tldextract-2.2.2\n"
          ],
          "name": "stdout"
        }
      ]
    },
    {
      "cell_type": "code",
      "metadata": {
        "id": "OxLNkn9uCK7n",
        "colab_type": "code",
        "colab": {}
      },
      "source": [
        "import numpy as np\n",
        "import pandas as pd\n",
        "import requests\n",
        "from bs4 import BeautifulSoup\n",
        "from newspaper import Article\n",
        "import nltk"
      ],
      "execution_count": 0,
      "outputs": []
    },
    {
      "cell_type": "code",
      "metadata": {
        "id": "ZyadY7NSssLI",
        "colab_type": "code",
        "colab": {
          "base_uri": "https://localhost:8080/",
          "height": 69
        },
        "outputId": "af5f8ca2-401a-400a-8847-6b9da1df99de"
      },
      "source": [
        "nltk.download('punkt')"
      ],
      "execution_count": 56,
      "outputs": [
        {
          "output_type": "stream",
          "text": [
            "[nltk_data] Downloading package punkt to /root/nltk_data...\n",
            "[nltk_data]   Unzipping tokenizers/punkt.zip.\n"
          ],
          "name": "stdout"
        },
        {
          "output_type": "execute_result",
          "data": {
            "text/plain": [
              "True"
            ]
          },
          "metadata": {
            "tags": []
          },
          "execution_count": 56
        }
      ]
    },
    {
      "cell_type": "code",
      "metadata": {
        "id": "Aiir0JA2ZurV",
        "colab_type": "code",
        "colab": {}
      },
      "source": [
        "url = \"https://timesofindia.indiatimes.com/world\"\n",
        "req = requests.get(url)"
      ],
      "execution_count": 0,
      "outputs": []
    },
    {
      "cell_type": "code",
      "metadata": {
        "id": "OwQshq_GoELy",
        "colab_type": "code",
        "colab": {}
      },
      "source": [
        "soup = BeautifulSoup(req.content, 'html5lib') \n",
        "table = soup.findAll('a', attrs = {'class':'w_img'})"
      ],
      "execution_count": 0,
      "outputs": []
    },
    {
      "cell_type": "code",
      "metadata": {
        "id": "awlT60FQoWzP",
        "colab_type": "code",
        "colab": {
          "base_uri": "https://localhost:8080/",
          "height": 749
        },
        "outputId": "2eec1151-726c-4dcd-8b55-2f592b870371"
      },
      "source": [
        "len(table)\n",
        "table"
      ],
      "execution_count": 59,
      "outputs": [
        {
          "output_type": "execute_result",
          "data": {
            "text/plain": [
              "[<a class=\"w_img\" href=\"/world/europe/france-to-outline-plans-to-lift-coronavirus-lockdown/articleshow/75426949.cms\" pg=\"-world/europe#Story_View-1-geturl\" title=\"France to outline plans to lift coronavirus lockdown\"><img alt=\"France to outline plans to lift coronavirus lockdown\" data-src=\"https://static.toiimg.com/photo/75427072.cms\" pg=\"-world/europe#Story_View-1-geturl\" src=\"https://static.toiimg.com/photo/34824568.cms\"/></a>,\n",
              " <a class=\"w_img\" href=\"/videos/international/covid-19-testing-wont-be-a-problem-for-reopening-says-president-trump/videoshow/75419839.cms\" pg=\"-videos#Video_View-1-geturl\" title=\"Covid-19: Testing won't 'be a problem' for reopening, says President Trump\"><img alt=\"Covid-19: Testing won't 'be a problem' for reopening, says President Trump\" data-src=\"https://static.toiimg.com/thumb/msid-75419839,width-255,resizemode-4,imgsize-346288/75419839.jpg\" pg=\"-videos#Video_View-1-geturl\" src=\"https://static.toiimg.com/photo/34824568.cms\"/><i class=\"iconvideo\"></i></a>,\n",
              " <a class=\"w_img\" href=\"/videos/international/covid-19-some-georgia-restaurants-reopen-for-dine-in-service/videoshow/75419905.cms\" pg=\"-videos#Video_View-2-geturl\" title=\"Covid-19: Some Georgia restaurants reopen for dine-in service\"><img alt=\"Covid-19: Some Georgia restaurants reopen for dine-in service\" data-src=\"https://static.toiimg.com/thumb/msid-75419905,width-255,resizemode-4,imgsize-358039/75419905.jpg\" pg=\"-videos#Video_View-2-geturl\" src=\"https://static.toiimg.com/photo/34824568.cms\"/><i class=\"iconvideo\"></i></a>,\n",
              " <a class=\"w_img\" href=\"/videos/international/very-good-idea-on-kim-jong-uns-health-president-donald-trump/videoshow/75419814.cms\" pg=\"-videos#Video_View-3-geturl\" title=\"'Very good idea' on Kim Jong Un's health: President Donald Trump\"><img alt=\"'Very good idea' on Kim Jong Un's health: President Donald Trump\" data-src=\"https://static.toiimg.com/thumb/msid-75419814,width-255,resizemode-4,imgsize-292170/75419814.jpg\" pg=\"-videos#Video_View-3-geturl\" src=\"https://static.toiimg.com/photo/34824568.cms\"/><i class=\"iconvideo\"></i></a>,\n",
              " <a class=\"w_img\" href=\"/videos/international/covid-19-mayor-entertains-residents-after-imposing-curfew/videoshow/75398612.cms\" pg=\"-videos#Video_View-4-geturl\" title=\"Covid-19: Mayor entertains residents after imposing curfew\"><img alt=\"Covid-19: Mayor entertains residents after imposing curfew\" data-src=\"https://static.toiimg.com/thumb/msid-75398612,width-255,resizemode-4,imgsize-167996/75398612.jpg\" pg=\"-videos#Video_View-4-geturl\" src=\"https://static.toiimg.com/photo/34824568.cms\"/><i class=\"iconvideo\"></i></a>,\n",
              " <a class=\"w_img\" href=\"/videos/international/covid-19-uk-pm-boris-johnson-returns-to-work-after-recovering-from-virus/videoshow/75398833.cms\" pg=\"-videos#Video_View-5-geturl\" title=\"Covid-19: UK PM Boris Johnson returns to work after recovering from virus\"><img alt=\"Covid-19: UK PM Boris Johnson returns to work after recovering from virus\" data-src=\"https://static.toiimg.com/thumb/msid-75398833,width-255,resizemode-4,imgsize-385279/75398833.jpg\" pg=\"-videos#Video_View-5-geturl\" src=\"https://static.toiimg.com/photo/34824568.cms\"/><i class=\"iconvideo\"></i></a>,\n",
              " <a class=\"w_img\" href=\"/videos/international/1-officer-dead-1-wounded-in-louisiana-shooting/videoshow/75398658.cms\" pg=\"-videos#Video_View-6-geturl\" title=\"1 officer dead, 1 wounded in Louisiana shooting\"><img alt=\"1 officer dead, 1 wounded in Louisiana shooting\" data-src=\"https://static.toiimg.com/thumb/msid-75398658,width-255,resizemode-4,imgsize-318015/75398658.jpg\" pg=\"-videos#Video_View-6-geturl\" src=\"https://static.toiimg.com/photo/34824568.cms\"/><i class=\"iconvideo\"></i></a>,\n",
              " <a class=\"w_img\" href=\"/videos/news/covid-19-lockdown-reveals-fresh-and-clean-air-in-india/videoshow/75293007.cms\" pg=\"-videos#Video_View-7-geturl\" title=\"Covid-19: Lockdown reveals fresh and clean air in India\"><img alt=\"Covid-19: Lockdown reveals fresh and clean air in India\" data-src=\"https://static.toiimg.com/thumb/msid-75293007,width-255,resizemode-4,imgsize-216340/75293007.jpg\" pg=\"-videos#Video_View-7-geturl\" src=\"https://static.toiimg.com/photo/34824568.cms\"/><i class=\"iconvideo\"></i></a>,\n",
              " <a class=\"w_img\" href=\"/videos/international/irans-guard-says-it-launched-satellite/videoshow/75292890.cms\" pg=\"-videos#Video_View-8-geturl\" title=\"Iran's Guard says it launched satellite\"><img alt=\"Iran's Guard says it launched satellite\" data-src=\"https://static.toiimg.com/thumb/msid-75292890,width-255,resizemode-4,imgsize-166905/75292890.jpg\" pg=\"-videos#Video_View-8-geturl\" src=\"https://static.toiimg.com/photo/34824568.cms\"/><i class=\"iconvideo\"></i></a>,\n",
              " <a class=\"w_img\" href=\"/videos/international/covid-19-virus-shutdown-shows-human-impact-on-earth/videoshow/75292958.cms\" pg=\"-videos#Video_View-9-geturl\" title=\"Covid-19: Virus shutdown shows human impact on Earth\"><img alt=\"Covid-19: Virus shutdown shows human impact on Earth\" data-src=\"https://static.toiimg.com/thumb/msid-75292958,width-255,resizemode-4,imgsize-259486/75292958.jpg\" pg=\"-videos#Video_View-9-geturl\" src=\"https://static.toiimg.com/photo/34824568.cms\"/><i class=\"iconvideo\"></i></a>,\n",
              " <a class=\"w_img\" href=\"/videos/international/san-francisco-dog-stolen-in-december-has-joyous-reunion-with-owner/videoshow/75292867.cms\" pg=\"-videos#Video_View-10-geturl\" title=\"San Francisco: Dog stolen in December has joyous reunion with owner\"><img alt=\"San Francisco: Dog stolen in December has joyous reunion with owner\" data-src=\"https://static.toiimg.com/thumb/msid-75292867,width-255,resizemode-4,imgsize-164057/75292867.jpg\" pg=\"-videos#Video_View-10-geturl\" src=\"https://static.toiimg.com/photo/34824568.cms\"/><i class=\"iconvideo\"></i></a>,\n",
              " <a class=\"w_img\" href=\"/world/us/huge-impact-of-covid-19-on-people-living-in-urban-slums-study/articleshow/75427764.cms\" pg=\"-world/us#Story_View-1-geturl\" title=\"Huge impact of Covid-19 on people living in urban slums: Study\"><img alt=\"Huge impact of Covid-19 on people living in urban slums: Study\" data-src=\"https://static.toiimg.com/thumb/imgsize-57896,msid-75427923,width-200,resizemode-4/75427923.jpg\" pg=\"-world/us#Story_View-1-geturl\" src=\"https://static.toiimg.com/photo/34824568.cms\"/></a>,\n",
              " <a class=\"w_img\" href=\"/world/pakistan/coronavirus-cases-in-pakistan-rises-to-14079-death-toll-301/articleshow/75424943.cms\" pg=\"-world/pakistan#Story_View-1-geturl\" title=\"Coronavirus cases in Pakistan rises to 14,079; death toll 301\"><img alt=\"Coronavirus cases in Pakistan rises to 14,079; death toll 301\" data-src=\"https://static.toiimg.com/thumb/imgsize-97865,msid-75425011,width-200,resizemode-4/75425011.jpg\" pg=\"-world/pakistan#Story_View-1-geturl\" src=\"https://static.toiimg.com/photo/34824568.cms\"/></a>,\n",
              " <a class=\"w_img\" href=\"/world/south-asia/children-in-south-asia-could-face-health-crisis-amid-covid-19-unicef/articleshow/75428020.cms\" pg=\"-world/south-asia#Story_View-1-geturl\" title=\"Children in South Asia could face health crisis amid Covid-19: UNICEF\"><img alt=\"Children in South Asia could face health crisis amid Covid-19: UNICEF\" data-src=\"https://static.toiimg.com/thumb/imgsize-713010,msid-75428589,width-200,resizemode-4/75428589.jpg\" pg=\"-world/south-asia#Story_View-1-geturl\" src=\"https://static.toiimg.com/photo/34824568.cms\"/></a>,\n",
              " <a class=\"w_img\" href=\"/world/uk/uk-on-track-to-become-one-of-europes-worst-hit-in-covid-19-pandemic/articleshow/75426335.cms\" pg=\"-world/uk#Story_View-1-geturl\" title=\"UK on track to become one of Europe's worst hit in Covid-19 pandemic\"><img alt=\"UK on track to become one of Europe's worst hit in Covid-19 pandemic\" data-src=\"https://static.toiimg.com/thumb/imgsize-102666,msid-75427075,width-200,resizemode-4/75427075.jpg\" pg=\"-world/uk#Story_View-1-geturl\" src=\"https://static.toiimg.com/photo/34824568.cms\"/></a>,\n",
              " <a class=\"w_img\" href=\"/world/europe/uk-holds-minutes-silence-for-fallen-frontline-workers/articleshow/75428182.cms\" pg=\"-world#Story_View-1-geturl\" title=\"UK holds minute's silence for fallen Covid-19 frontline workers\"><img alt=\"UK holds minute's silence for fallen Covid-19 frontline workers\" data-src=\"https://static.toiimg.com/thumb/imgsize-52083,msid-75428192,width-200,resizemode-4/75428192.jpg\" pg=\"-world#Story_View-1-geturl\" src=\"https://static.toiimg.com/photo/34824568.cms\"/></a>,\n",
              " <a class=\"w_img\" href=\"/world/china/us-politicians-telling-barefaced-lies-over-coronavirus-pandemic-china/articleshow/75427510.cms\" pg=\"-world/china#Story_View-1-geturl\" title=\"US politicians 'telling barefaced lies' over coronavirus pandemic: China\"><img alt=\"US politicians 'telling barefaced lies' over coronavirus pandemic: China\" data-src=\"https://static.toiimg.com/thumb/imgsize-318614,msid-75427649,width-200,resizemode-4/75427649.jpg\" pg=\"-world/china#Story_View-1-geturl\" src=\"https://static.toiimg.com/photo/34824568.cms\"/></a>,\n",
              " <a class=\"w_img\" href=\"/world/middle-east/eastern-libyan-forces-say-turkish-drone-killed-5-civilians/articleshow/75427729.cms\" pg=\"-world/middle-east#Story_View-1-geturl\" title=\"Eastern Libyan forces say Turkish drone killed 5 civilians\"><img alt=\"Eastern Libyan forces say Turkish drone killed 5 civilians\" data-src=\"https://static.toiimg.com/thumb/imgsize-9876,msid-75427796,width-200,resizemode-4/75427796.jpg\" pg=\"-world/middle-east#Story_View-1-geturl\" src=\"https://static.toiimg.com/photo/34824568.cms\"/></a>,\n",
              " <a class=\"w_img\" href=\"/world/rest-of-world/singapore-to-enter-into-recession-this-year-due-to-coronavirus-pandemic-monetary-authority-of-singapore/articleshow/75426364.cms\" pg=\"-world/rest-of-world#Story_View-1-geturl\" title=\"Singapore to enter into recession this year due to coronavirus pandemic: Monetary Authority of Singapore\"><img alt=\"Singapore to enter into recession this year due to coronavirus pandemic: Monetary Authority of Singapore\" data-src=\"https://static.toiimg.com/thumb/imgsize-144655,msid-75426625,width-200,resizemode-4/75426625.jpg\" pg=\"-world/rest-of-world#Story_View-1-geturl\" src=\"https://static.toiimg.com/photo/34824568.cms\"/></a>,\n",
              " <a class=\"w_img\" href=\"/world/mad-mad-world/man-tries-to-smuggle-girlfriend-in-car-trunk-during-lockdown/articleshow/75347310.cms\" pg=\"-world/mad-mad-world#Story_View-1-geturl\" title=\"Man tries to smuggle girlfriend in car trunk during lockdown\"><img alt=\"Man tries to smuggle girlfriend in car trunk during lockdown\" data-src=\"https://static.toiimg.com/thumb/imgsize-89380,msid-75347755,width-200,resizemode-4/75347755.jpg\" pg=\"-world/mad-mad-world#Story_View-1-geturl\" src=\"https://static.toiimg.com/photo/34824568.cms\"/></a>,\n",
              " <a class=\"w_img\" href=\"http://photogallery.indiatimes.com/news/world/these-40-pictures-of-north-koreas-leader-kim-jong-un-will-blow-your-mind/articleshow/75421116.cms\" pg=\"-news#Story_View-1-geturl\" title=\"These 40 pictures of North Korea's leader Kim Jong Un will blow your mind\"><img alt=\"These 40 pictures of North Korea's leader Kim Jong Un will blow your mind\" data-src=\"https://static.toiimg.com/thumb/imgsize-1406380,msid-75421116,width-150,resizemode-4/75421116.jpg\" pg=\"-news#Story_View-1-geturl\" src=\"https://static.toiimg.com/photo/34824568.cms\"/></a>,\n",
              " <a class=\"w_img\" href=\"http://photogallery.indiatimes.com/news/world/meet-kim-yo-jong-the-woman-who-may-run-north-korea-after-kim-jong-un/articleshow/75406245.cms\" pg=\"-news#Story_View-2-geturl\" title=\"Meet Kim Yo Jong,⁠ the woman who may run North Korea after Kim Jong-un\"><img alt=\"Meet Kim Yo Jong,⁠ the woman who may run North Korea after Kim Jong-un\" data-src=\"https://static.toiimg.com/thumb/imgsize-536770,msid-75406245,width-150,resizemode-4/75406245.jpg\" pg=\"-news#Story_View-2-geturl\" src=\"https://static.toiimg.com/photo/34824568.cms\"/></a>,\n",
              " <a class=\"w_img\" href=\"http://photogallery.indiatimes.com/news/world/muslims-mark-low-key-ramadan-amid-coronavirus-pandemic/articleshow/75374943.cms\" pg=\"-news#Story_View-3-geturl\" title=\"Muslims mark low-key Ramadan amid coronavirus pandemic\"><img alt=\"Muslims mark low-key Ramadan amid coronavirus pandemic\" data-src=\"https://static.toiimg.com/thumb/imgsize-1179864,msid-75374943,width-150,resizemode-4/75374943.jpg\" pg=\"-news#Story_View-3-geturl\" src=\"https://static.toiimg.com/photo/34824568.cms\"/></a>,\n",
              " <a class=\"w_img\" href=\"http://photogallery.indiatimes.com/news/world/in-pics-uk-coronavirus-death-toll-crosses-18000/articleshow/75314255.cms\" pg=\"-news#Story_View-4-geturl\" title=\"In pics: UK coronavirus death toll crosses 18,000\"><img alt=\"In pics: UK coronavirus death toll crosses 18,000\" data-src=\"https://static.toiimg.com/thumb/imgsize-313631,msid-75314255,width-150,resizemode-4/75314255.jpg\" pg=\"-news#Story_View-4-geturl\" src=\"https://static.toiimg.com/photo/34824568.cms\"/></a>,\n",
              " <a class=\"w_img\" href=\"http://photogallery.indiatimes.com/news/world/pictures-of-libraries/articleshow/75313453.cms\" pg=\"-news#Story_View-5-geturl\" title=\"Mesmerising pictures of libraries around the world every book lover must see\"><img alt=\"Mesmerising pictures of libraries around the world every book lover must see\" data-src=\"https://static.toiimg.com/thumb/imgsize-347004,msid-75313453,width-150,resizemode-4/75313453.jpg\" pg=\"-news#Story_View-5-geturl\" src=\"https://static.toiimg.com/photo/34824568.cms\"/></a>,\n",
              " <a class=\"w_img\" href=\"http://photogallery.indiatimes.com/news/world/world-earth-day-these-before-and-after-pictures-of-mother-nature-prove-that-its-a-wake-up-call-for-humans/articleshow/75290115.cms\" pg=\"-news#Story_View-6-geturl\" title=\"World Earth Day: These before and after pictures of Mother Nature prove that it's a wake up call for humans!\"><img alt=\"World Earth Day: These before and after pictures of Mother Nature prove that it's a wake up call for humans!\" data-src=\"https://static.toiimg.com/thumb/imgsize-538967,msid-75290115,width-150,resizemode-4/75290115.jpg\" pg=\"-news#Story_View-6-geturl\" src=\"https://static.toiimg.com/photo/34824568.cms\"/></a>,\n",
              " <a class=\"w_img\" href=\"http://photogallery.indiatimes.com/news/world/in-pics-coronavirus-death-toll-crosses-45000-in-america/articleshow/75284837.cms\" pg=\"-news#Story_View-7-geturl\" title=\"In pics: Coronavirus death toll crosses 45,000 in America\"><img alt=\"In pics: Coronavirus death toll crosses 45,000 in America\" data-src=\"https://static.toiimg.com/thumb/imgsize-55531,msid-75284837,width-150,resizemode-4/75284837.jpg\" pg=\"-news#Story_View-7-geturl\" src=\"https://static.toiimg.com/photo/34824568.cms\"/></a>,\n",
              " <a class=\"w_img\" href=\"http://photogallery.indiatimes.com/news/world/viral-pictures-of-widowed-penguins-finding-comfort-in-each-other-will-surely-melt-your-heart/articleshow/75273195.cms\" pg=\"-news#Story_View-8-geturl\" title=\"Viral pictures of widowed Penguins finding comfort in each other will surely melt your heart!\"><img alt=\"Viral pictures of widowed Penguins finding comfort in each other will surely melt your heart!\" data-src=\"https://static.toiimg.com/thumb/imgsize-478656,msid-75273195,width-150,resizemode-4/75273195.jpg\" pg=\"-news#Story_View-8-geturl\" src=\"https://static.toiimg.com/photo/34824568.cms\"/></a>,\n",
              " <a class=\"w_img\" href=\"/nri/us-canada-news/indian-american-congresswoman-pramila-jayapal-endorses-joe-biden-for-president/articleshow/75421956.cms\" pg=\"-nri/us-canada-news#Story_View-1-geturl\" title=\"Indian-American Congresswoman Pramila Jayapal endorses Joe Biden for president\"><img alt=\"Indian-American Congresswoman Pramila Jayapal endorses Joe Biden for president\" data-src=\"https://static.toiimg.com/thumb/imgsize-104567,msid-75422166,width-200,resizemode-4/75422166.jpg\" pg=\"-nri/us-canada-news#Story_View-1-geturl\" src=\"https://static.toiimg.com/photo/34824568.cms\"/></a>,\n",
              " <a class=\"w_img\" href=\"/nri/us-canada-news/trump-nominates-indian-american-as-us-envoy-to-oecd/articleshow/75410475.cms\" pg=\"-nri/us-canada-news#Story_View-2-geturl\" title=\"Trump nominates Indian-American as US envoy to OECD\"><img alt=\"Trump nominates Indian-American as US envoy to OECD\" data-src=\"https://static.toiimg.com/thumb/imgsize-20339,msid-75410563,width-200,resizemode-4/75410563.jpg\" pg=\"-nri/us-canada-news#Story_View-2-geturl\" src=\"https://static.toiimg.com/photo/34824568.cms\"/></a>,\n",
              " <a class=\"w_img\" href=\"/nri/other-news/indian-national-killed-in-road-accident-in-singapore/articleshow/75404923.cms\" pg=\"-nri/other-news#Story_View-3-geturl\" title=\"Indian national killed in road accident in Singapore\"><img alt=\"Indian national killed in road accident in Singapore\" data-src=\"https://static.toiimg.com/thumb/imgsize-108889,msid-75405126,width-200,resizemode-4/75405126.jpg\" pg=\"-nri/other-news#Story_View-3-geturl\" src=\"https://static.toiimg.com/photo/34824568.cms\"/></a>,\n",
              " <a class=\"w_img\" href=\"/nri/us-canada-news/indian-american-lawyer-seema-nanda-to-step-down-as-ceo-of-democratic-party/articleshow/75371135.cms\" pg=\"-nri/us-canada-news#Story_View-4-geturl\" title=\"Indian-American lawyer Seema Nanda to step down as CEO of Democratic Party\"><img alt=\"Indian-American lawyer Seema Nanda to step down as CEO of Democratic Party\" data-src=\"https://static.toiimg.com/thumb/imgsize-68124,msid-75371235,width-200,resizemode-4/75371235.jpg\" pg=\"-nri/us-canada-news#Story_View-4-geturl\" src=\"https://static.toiimg.com/photo/34824568.cms\"/></a>,\n",
              " <a class=\"w_img\" href=\"/nri/indian-american-woman-elected-to-american-academy-of-arts-and-sciences/articleshow/75372404.cms\" pg=\"-nri#Story_View-5-geturl\" title=\"Indian-American woman elected to American Academy of Arts and Sciences\"><img alt=\"Indian-American woman elected to American Academy of Arts and Sciences\" data-src=\"https://static.toiimg.com/thumb/imgsize-32323,msid-75372632,width-200,resizemode-4/75372632.jpg\" pg=\"-nri#Story_View-5-geturl\" src=\"https://static.toiimg.com/photo/34824568.cms\"/></a>,\n",
              " <a class=\"w_img\" href=\"/nri/coronavirus-indian-american-ngo-raises-1-million-for-relief-work-in-us-india/articleshow/75340264.cms\" pg=\"-nri#Story_View-6-geturl\" title=\"Coronavirus: Indian-American NGO raises $1 million for relief work in US, India\"><img alt=\"Coronavirus: Indian-American NGO raises $1 million for relief work in US, India\" data-src=\"https://static.toiimg.com/thumb/imgsize-508207,msid-75341511,width-200,resizemode-4/75341511.jpg\" pg=\"-nri#Story_View-6-geturl\" src=\"https://static.toiimg.com/photo/34824568.cms\"/></a>,\n",
              " <a class=\"w_img\" href=\"/nri/us-canada-news/indian-origin-doctor-honoured-for-her-services-in-fighting-coronavirus-in-us/articleshow/75302847.cms\" pg=\"-nri/us-canada-news#Story_View-7-geturl\" title=\"Indian-origin doctor honoured for her services in fighting Coronavirus in US\"><img alt=\"Indian-origin doctor honoured for her services in fighting Coronavirus in US\" data-src=\"https://static.toiimg.com/thumb/imgsize-582197,msid-75302908,width-200,resizemode-4/75302908.jpg\" pg=\"-nri/us-canada-news#Story_View-7-geturl\" src=\"https://static.toiimg.com/photo/34824568.cms\"/></a>,\n",
              " <a class=\"w_img\" href=\"/nri/indian-origin-man-charged-with-coronavirus-related-offences-in-singapore/articleshow/75291371.cms\" pg=\"-nri#Story_View-8-geturl\" title=\"Indian-origin man charged with coronavirus related offences in Singapore\"><img alt=\"Indian-origin man charged with coronavirus related offences in Singapore\" data-src=\"https://static.toiimg.com/thumb/imgsize-98527,msid-75291506,width-200,resizemode-4/75291506.jpg\" pg=\"-nri#Story_View-8-geturl\" src=\"https://static.toiimg.com/photo/34824568.cms\"/></a>,\n",
              " <a class=\"w_img\" href=\"/videos/city/lucknow/bjp-mla-suresh-tewari-sparks-row-says-dont-buy-vegetables-from-muslim-vendors/videoshow/75426817.cms\" pg=\"World-rhs-videos#Video_View-1-geturl\" title=\"BJP MLA Suresh Tewari sparks row, says don't buy vegetables from Muslim vendors\"><img alt=\"BJP MLA Suresh Tewari sparks row, says don't buy vegetables from Muslim vendors\" data-src=\"https://static.toiimg.com/thumb/imgsize-132936,msid-75426817,width-220,resizemode-4/75426817.jpg\" pg=\"World-rhs-videos#Video_View-1-geturl\" src=\"https://static.toiimg.com/photo/34824568.cms\"/><i class=\"iconvideo\"></i></a>,\n",
              " <a class=\"w_img\" href=\"/videos/entertainment/hindi/sapna-choudhary-says-increasing-proximity-with-salman-khan-will-not-give-you-work-in-the-industry/videoshow/75427791.cms\" pg=\"World-rhs-videos#Video_View-2-geturl\" title=\"Sapna: Proximity with Salman will not get you work\"><img alt=\"Sapna: Proximity with Salman will not get you work\" data-src=\"https://static.toiimg.com/thumb/imgsize-227586,msid-75427791,width-220,resizemode-4/75427791.jpg\" pg=\"World-rhs-videos#Video_View-2-geturl\" src=\"https://static.toiimg.com/photo/34824568.cms\"/><i class=\"iconvideo\"></i></a>,\n",
              " <a class=\"w_img\" href=\"/videos/entertainment/hindi/mumbai-cops-thank-akshay-kumar-for-contributing-rs-2-crore-to-mumbai-police-foundation/videoshow/75425442.cms\" pg=\"World-rhs-videos#Video_View-3-geturl\" title=\"Cops thank Akshay Kumar for contributing Rs 2cr\"><img alt=\"Cops thank Akshay Kumar for contributing Rs 2cr\" data-src=\"https://static.toiimg.com/thumb/imgsize-576340,msid-75425442,width-220,resizemode-4/75425442.jpg\" pg=\"World-rhs-videos#Video_View-3-geturl\" src=\"https://static.toiimg.com/photo/34824568.cms\"/><i class=\"iconvideo\"></i></a>,\n",
              " <a class=\"w_img\" href=\"/videos/news/covid-19-health-ministry-issues-additional-guidelines-for-home-isolation/videoshow/75423212.cms\" pg=\"World-rhs-videos#Video_View-4-geturl\" title=\"Covid-19: Health ministry issues additional guidelines for home isolation\"><img alt=\"Covid-19: Health ministry issues additional guidelines for home isolation\" data-src=\"https://static.toiimg.com/thumb/imgsize-708763,msid-75423212,width-220,resizemode-4/75423212.jpg\" pg=\"World-rhs-videos#Video_View-4-geturl\" src=\"https://static.toiimg.com/photo/34824568.cms\"/><i class=\"iconvideo\"></i></a>,\n",
              " <a class=\"w_img\" href=\"/videos/city/lucknow/shocking-man-brutally-kills-mutilates-two-sadhus-in-bulandshahr/videoshow/75423379.cms\" pg=\"World-rhs-videos#Video_View-5-geturl\" title=\"Man brutally kills two sadhus in UP\"><img alt=\"Man brutally kills two sadhus in UP\" data-src=\"https://static.toiimg.com/thumb/imgsize-334824,msid-75423379,width-220,resizemode-4/75423379.jpg\" pg=\"World-rhs-videos#Video_View-5-geturl\" src=\"https://static.toiimg.com/photo/34824568.cms\"/><i class=\"iconvideo\"></i></a>]"
            ]
          },
          "metadata": {
            "tags": []
          },
          "execution_count": 59
        }
      ]
    },
    {
      "cell_type": "code",
      "metadata": {
        "id": "ENsKYW38ouYw",
        "colab_type": "code",
        "colab": {}
      },
      "source": [
        "news = []\n",
        "for row in table:\n",
        "  if not row['href'].startswith('http'):\n",
        "    news.append(\"https://timesofindia.indiatimes.com\"+row['href'])"
      ],
      "execution_count": 0,
      "outputs": []
    },
    {
      "cell_type": "code",
      "metadata": {
        "id": "9Uq85INxqUSj",
        "colab_type": "code",
        "colab": {}
      },
      "source": [
        "df = []\n",
        "for i in news:\n",
        "  article = Article(i, language='en')\n",
        "  article.download()\n",
        "  article.parse()\n",
        "  article.nlp()\n",
        "  data = {}\n",
        "  data['title'] = article.title\n",
        "  data['text'] = article.text\n",
        "  data['keywords'] = article.keywords\n",
        "  data['summary'] = article.summary\n",
        "  df.append(data)"
      ],
      "execution_count": 0,
      "outputs": []
    },
    {
      "cell_type": "code",
      "metadata": {
        "id": "yaQtQvKirtRj",
        "colab_type": "code",
        "colab": {
          "base_uri": "https://localhost:8080/",
          "height": 258
        },
        "outputId": "d1d67765-a0ca-4cae-89a0-0a79ffc1aaae"
      },
      "source": [
        "dataset = pd.DataFrame(df)\n",
        "dataset.head()"
      ],
      "execution_count": 62,
      "outputs": [
        {
          "output_type": "execute_result",
          "data": {
            "text/html": [
              "<div>\n",
              "<style scoped>\n",
              "    .dataframe tbody tr th:only-of-type {\n",
              "        vertical-align: middle;\n",
              "    }\n",
              "\n",
              "    .dataframe tbody tr th {\n",
              "        vertical-align: top;\n",
              "    }\n",
              "\n",
              "    .dataframe thead th {\n",
              "        text-align: right;\n",
              "    }\n",
              "</style>\n",
              "<table border=\"1\" class=\"dataframe\">\n",
              "  <thead>\n",
              "    <tr style=\"text-align: right;\">\n",
              "      <th></th>\n",
              "      <th>title</th>\n",
              "      <th>text</th>\n",
              "      <th>keywords</th>\n",
              "      <th>summary</th>\n",
              "    </tr>\n",
              "  </thead>\n",
              "  <tbody>\n",
              "    <tr>\n",
              "      <th>0</th>\n",
              "      <td>France Lockdown Lift: France to outline plans ...</td>\n",
              "      <td>Nurse Sandrine poses as she works in a hotel o...</td>\n",
              "      <td>[plans, number, times, outline, week, testing,...</td>\n",
              "      <td>Restaurants, cafes and cinemas will have to re...</td>\n",
              "    </tr>\n",
              "    <tr>\n",
              "      <th>1</th>\n",
              "      <td>Covid-19: Testing won't 'be a problem' for reo...</td>\n",
              "      <td>Apr 28, 2020, 08:40AM IST\\n\\nSource: AP\\n\\nThe...</td>\n",
              "      <td>[white, virus, president, trump, covid19, prob...</td>\n",
              "      <td>Apr 28, 2020, 08:40AM ISTSource: APThe White H...</td>\n",
              "    </tr>\n",
              "    <tr>\n",
              "      <th>2</th>\n",
              "      <td>Covid-19: Some Georgia restaurants reopen for ...</td>\n",
              "      <td>Apr 28, 2020, 08:43AM IST\\n\\nSource: AP\\n\\nWit...</td>\n",
              "      <td>[zink, reopen, georgia, customers, wearing, wi...</td>\n",
              "      <td>Apr 28, 2020, 08:43AM ISTSource: APWith tables...</td>\n",
              "    </tr>\n",
              "    <tr>\n",
              "      <th>3</th>\n",
              "      <td>'Very good idea' on Kim Jong Un's health: Pres...</td>\n",
              "      <td>Apr 28, 2020, 08:39AM IST\\n\\nSource: AP\\n\\nNor...</td>\n",
              "      <td>[korean, future, president, trump, speaking, r...</td>\n",
              "      <td>Apr 28, 2020, 08:39AM ISTSource: APNorth Korea...</td>\n",
              "    </tr>\n",
              "    <tr>\n",
              "      <th>4</th>\n",
              "      <td>Covid-19: Mayor entertains residents after imp...</td>\n",
              "      <td>Apr 27, 2020, 08:27AM IST\\n\\nSource: AP\\n\\nThe...</td>\n",
              "      <td>[way, kawakami, curfew, covid19, tshirt, enter...</td>\n",
              "      <td>Apr 27, 2020, 08:27AM ISTSource: APThe videos,...</td>\n",
              "    </tr>\n",
              "  </tbody>\n",
              "</table>\n",
              "</div>"
            ],
            "text/plain": [
              "                                               title  ...                                            summary\n",
              "0  France Lockdown Lift: France to outline plans ...  ...  Restaurants, cafes and cinemas will have to re...\n",
              "1  Covid-19: Testing won't 'be a problem' for reo...  ...  Apr 28, 2020, 08:40AM ISTSource: APThe White H...\n",
              "2  Covid-19: Some Georgia restaurants reopen for ...  ...  Apr 28, 2020, 08:43AM ISTSource: APWith tables...\n",
              "3  'Very good idea' on Kim Jong Un's health: Pres...  ...  Apr 28, 2020, 08:39AM ISTSource: APNorth Korea...\n",
              "4  Covid-19: Mayor entertains residents after imp...  ...  Apr 27, 2020, 08:27AM ISTSource: APThe videos,...\n",
              "\n",
              "[5 rows x 4 columns]"
            ]
          },
          "metadata": {
            "tags": []
          },
          "execution_count": 62
        }
      ]
    },
    {
      "cell_type": "code",
      "metadata": {
        "id": "1Xwax4mWs_3P",
        "colab_type": "code",
        "colab": {}
      },
      "source": [
        "from sklearn.model_selection import train_test_split"
      ],
      "execution_count": 0,
      "outputs": []
    },
    {
      "cell_type": "code",
      "metadata": {
        "id": "BtQnRfDOuTe4",
        "colab_type": "code",
        "colab": {
          "base_uri": "https://localhost:8080/",
          "height": 124
        },
        "outputId": "9e487c83-bf0b-43ef-9c8c-4348b30204d6"
      },
      "source": [
        "from google.colab import drive\n",
        "drive.mount('/content/gdrive')"
      ],
      "execution_count": 64,
      "outputs": [
        {
          "output_type": "stream",
          "text": [
            "Go to this URL in a browser: https://accounts.google.com/o/oauth2/auth?client_id=947318989803-6bn6qk8qdgf4n4g3pfee6491hc0brc4i.apps.googleusercontent.com&redirect_uri=urn%3aietf%3awg%3aoauth%3a2.0%3aoob&response_type=code&scope=email%20https%3a%2f%2fwww.googleapis.com%2fauth%2fdocs.test%20https%3a%2f%2fwww.googleapis.com%2fauth%2fdrive%20https%3a%2f%2fwww.googleapis.com%2fauth%2fdrive.photos.readonly%20https%3a%2f%2fwww.googleapis.com%2fauth%2fpeopleapi.readonly\n",
            "\n",
            "Enter your authorization code:\n",
            "··········\n",
            "Mounted at /content/gdrive\n"
          ],
          "name": "stdout"
        }
      ]
    },
    {
      "cell_type": "code",
      "metadata": {
        "id": "86EN_OYw0I3V",
        "colab_type": "code",
        "colab": {}
      },
      "source": [
        "online_dataset = pd.read_csv('/content/gdrive/My Drive/News Virality/OnlineNewsPopularity.csv')"
      ],
      "execution_count": 0,
      "outputs": []
    },
    {
      "cell_type": "code",
      "metadata": {
        "id": "UYI5D93S0lZz",
        "colab_type": "code",
        "colab": {
          "base_uri": "https://localhost:8080/",
          "height": 435
        },
        "outputId": "2c7c7f47-217f-489f-fbae-70b7137a0c73"
      },
      "source": [
        "online_dataset.head()"
      ],
      "execution_count": 175,
      "outputs": [
        {
          "output_type": "execute_result",
          "data": {
            "text/html": [
              "<div>\n",
              "<style scoped>\n",
              "    .dataframe tbody tr th:only-of-type {\n",
              "        vertical-align: middle;\n",
              "    }\n",
              "\n",
              "    .dataframe tbody tr th {\n",
              "        vertical-align: top;\n",
              "    }\n",
              "\n",
              "    .dataframe thead th {\n",
              "        text-align: right;\n",
              "    }\n",
              "</style>\n",
              "<table border=\"1\" class=\"dataframe\">\n",
              "  <thead>\n",
              "    <tr style=\"text-align: right;\">\n",
              "      <th></th>\n",
              "      <th>url</th>\n",
              "      <th>timedelta</th>\n",
              "      <th>n_tokens_title</th>\n",
              "      <th>n_tokens_content</th>\n",
              "      <th>n_unique_tokens</th>\n",
              "      <th>n_non_stop_words</th>\n",
              "      <th>n_non_stop_unique_tokens</th>\n",
              "      <th>num_hrefs</th>\n",
              "      <th>num_self_hrefs</th>\n",
              "      <th>num_imgs</th>\n",
              "      <th>num_videos</th>\n",
              "      <th>average_token_length</th>\n",
              "      <th>num_keywords</th>\n",
              "      <th>data_channel_is_lifestyle</th>\n",
              "      <th>data_channel_is_entertainment</th>\n",
              "      <th>data_channel_is_bus</th>\n",
              "      <th>data_channel_is_socmed</th>\n",
              "      <th>data_channel_is_tech</th>\n",
              "      <th>data_channel_is_world</th>\n",
              "      <th>kw_min_min</th>\n",
              "      <th>kw_max_min</th>\n",
              "      <th>kw_avg_min</th>\n",
              "      <th>kw_min_max</th>\n",
              "      <th>kw_max_max</th>\n",
              "      <th>kw_avg_max</th>\n",
              "      <th>kw_min_avg</th>\n",
              "      <th>kw_max_avg</th>\n",
              "      <th>kw_avg_avg</th>\n",
              "      <th>self_reference_min_shares</th>\n",
              "      <th>self_reference_max_shares</th>\n",
              "      <th>self_reference_avg_sharess</th>\n",
              "      <th>weekday_is_monday</th>\n",
              "      <th>weekday_is_tuesday</th>\n",
              "      <th>weekday_is_wednesday</th>\n",
              "      <th>weekday_is_thursday</th>\n",
              "      <th>weekday_is_friday</th>\n",
              "      <th>weekday_is_saturday</th>\n",
              "      <th>weekday_is_sunday</th>\n",
              "      <th>is_weekend</th>\n",
              "      <th>LDA_00</th>\n",
              "      <th>LDA_01</th>\n",
              "      <th>LDA_02</th>\n",
              "      <th>LDA_03</th>\n",
              "      <th>LDA_04</th>\n",
              "      <th>global_subjectivity</th>\n",
              "      <th>global_sentiment_polarity</th>\n",
              "      <th>global_rate_positive_words</th>\n",
              "      <th>global_rate_negative_words</th>\n",
              "      <th>rate_positive_words</th>\n",
              "      <th>rate_negative_words</th>\n",
              "      <th>avg_positive_polarity</th>\n",
              "      <th>min_positive_polarity</th>\n",
              "      <th>max_positive_polarity</th>\n",
              "      <th>avg_negative_polarity</th>\n",
              "      <th>min_negative_polarity</th>\n",
              "      <th>max_negative_polarity</th>\n",
              "      <th>title_subjectivity</th>\n",
              "      <th>title_sentiment_polarity</th>\n",
              "      <th>abs_title_subjectivity</th>\n",
              "      <th>abs_title_sentiment_polarity</th>\n",
              "      <th>shares</th>\n",
              "    </tr>\n",
              "  </thead>\n",
              "  <tbody>\n",
              "    <tr>\n",
              "      <th>0</th>\n",
              "      <td>http://mashable.com/2013/01/07/amazon-instant-...</td>\n",
              "      <td>731.0</td>\n",
              "      <td>12.0</td>\n",
              "      <td>219.0</td>\n",
              "      <td>0.663594</td>\n",
              "      <td>1.0</td>\n",
              "      <td>0.815385</td>\n",
              "      <td>4.0</td>\n",
              "      <td>2.0</td>\n",
              "      <td>1.0</td>\n",
              "      <td>0.0</td>\n",
              "      <td>4.680365</td>\n",
              "      <td>5.0</td>\n",
              "      <td>0.0</td>\n",
              "      <td>1.0</td>\n",
              "      <td>0.0</td>\n",
              "      <td>0.0</td>\n",
              "      <td>0.0</td>\n",
              "      <td>0.0</td>\n",
              "      <td>0.0</td>\n",
              "      <td>0.0</td>\n",
              "      <td>0.0</td>\n",
              "      <td>0.0</td>\n",
              "      <td>0.0</td>\n",
              "      <td>0.0</td>\n",
              "      <td>0.0</td>\n",
              "      <td>0.0</td>\n",
              "      <td>0.0</td>\n",
              "      <td>496.0</td>\n",
              "      <td>496.0</td>\n",
              "      <td>496.000000</td>\n",
              "      <td>1.0</td>\n",
              "      <td>0.0</td>\n",
              "      <td>0.0</td>\n",
              "      <td>0.0</td>\n",
              "      <td>0.0</td>\n",
              "      <td>0.0</td>\n",
              "      <td>0.0</td>\n",
              "      <td>0.0</td>\n",
              "      <td>0.500331</td>\n",
              "      <td>0.378279</td>\n",
              "      <td>0.040005</td>\n",
              "      <td>0.041263</td>\n",
              "      <td>0.040123</td>\n",
              "      <td>0.521617</td>\n",
              "      <td>0.092562</td>\n",
              "      <td>0.045662</td>\n",
              "      <td>0.013699</td>\n",
              "      <td>0.769231</td>\n",
              "      <td>0.230769</td>\n",
              "      <td>0.378636</td>\n",
              "      <td>0.100000</td>\n",
              "      <td>0.7</td>\n",
              "      <td>-0.350000</td>\n",
              "      <td>-0.600</td>\n",
              "      <td>-0.200000</td>\n",
              "      <td>0.500000</td>\n",
              "      <td>-0.187500</td>\n",
              "      <td>0.000000</td>\n",
              "      <td>0.187500</td>\n",
              "      <td>593</td>\n",
              "    </tr>\n",
              "    <tr>\n",
              "      <th>1</th>\n",
              "      <td>http://mashable.com/2013/01/07/ap-samsung-spon...</td>\n",
              "      <td>731.0</td>\n",
              "      <td>9.0</td>\n",
              "      <td>255.0</td>\n",
              "      <td>0.604743</td>\n",
              "      <td>1.0</td>\n",
              "      <td>0.791946</td>\n",
              "      <td>3.0</td>\n",
              "      <td>1.0</td>\n",
              "      <td>1.0</td>\n",
              "      <td>0.0</td>\n",
              "      <td>4.913725</td>\n",
              "      <td>4.0</td>\n",
              "      <td>0.0</td>\n",
              "      <td>0.0</td>\n",
              "      <td>1.0</td>\n",
              "      <td>0.0</td>\n",
              "      <td>0.0</td>\n",
              "      <td>0.0</td>\n",
              "      <td>0.0</td>\n",
              "      <td>0.0</td>\n",
              "      <td>0.0</td>\n",
              "      <td>0.0</td>\n",
              "      <td>0.0</td>\n",
              "      <td>0.0</td>\n",
              "      <td>0.0</td>\n",
              "      <td>0.0</td>\n",
              "      <td>0.0</td>\n",
              "      <td>0.0</td>\n",
              "      <td>0.0</td>\n",
              "      <td>0.000000</td>\n",
              "      <td>1.0</td>\n",
              "      <td>0.0</td>\n",
              "      <td>0.0</td>\n",
              "      <td>0.0</td>\n",
              "      <td>0.0</td>\n",
              "      <td>0.0</td>\n",
              "      <td>0.0</td>\n",
              "      <td>0.0</td>\n",
              "      <td>0.799756</td>\n",
              "      <td>0.050047</td>\n",
              "      <td>0.050096</td>\n",
              "      <td>0.050101</td>\n",
              "      <td>0.050001</td>\n",
              "      <td>0.341246</td>\n",
              "      <td>0.148948</td>\n",
              "      <td>0.043137</td>\n",
              "      <td>0.015686</td>\n",
              "      <td>0.733333</td>\n",
              "      <td>0.266667</td>\n",
              "      <td>0.286915</td>\n",
              "      <td>0.033333</td>\n",
              "      <td>0.7</td>\n",
              "      <td>-0.118750</td>\n",
              "      <td>-0.125</td>\n",
              "      <td>-0.100000</td>\n",
              "      <td>0.000000</td>\n",
              "      <td>0.000000</td>\n",
              "      <td>0.500000</td>\n",
              "      <td>0.000000</td>\n",
              "      <td>711</td>\n",
              "    </tr>\n",
              "    <tr>\n",
              "      <th>2</th>\n",
              "      <td>http://mashable.com/2013/01/07/apple-40-billio...</td>\n",
              "      <td>731.0</td>\n",
              "      <td>9.0</td>\n",
              "      <td>211.0</td>\n",
              "      <td>0.575130</td>\n",
              "      <td>1.0</td>\n",
              "      <td>0.663866</td>\n",
              "      <td>3.0</td>\n",
              "      <td>1.0</td>\n",
              "      <td>1.0</td>\n",
              "      <td>0.0</td>\n",
              "      <td>4.393365</td>\n",
              "      <td>6.0</td>\n",
              "      <td>0.0</td>\n",
              "      <td>0.0</td>\n",
              "      <td>1.0</td>\n",
              "      <td>0.0</td>\n",
              "      <td>0.0</td>\n",
              "      <td>0.0</td>\n",
              "      <td>0.0</td>\n",
              "      <td>0.0</td>\n",
              "      <td>0.0</td>\n",
              "      <td>0.0</td>\n",
              "      <td>0.0</td>\n",
              "      <td>0.0</td>\n",
              "      <td>0.0</td>\n",
              "      <td>0.0</td>\n",
              "      <td>0.0</td>\n",
              "      <td>918.0</td>\n",
              "      <td>918.0</td>\n",
              "      <td>918.000000</td>\n",
              "      <td>1.0</td>\n",
              "      <td>0.0</td>\n",
              "      <td>0.0</td>\n",
              "      <td>0.0</td>\n",
              "      <td>0.0</td>\n",
              "      <td>0.0</td>\n",
              "      <td>0.0</td>\n",
              "      <td>0.0</td>\n",
              "      <td>0.217792</td>\n",
              "      <td>0.033334</td>\n",
              "      <td>0.033351</td>\n",
              "      <td>0.033334</td>\n",
              "      <td>0.682188</td>\n",
              "      <td>0.702222</td>\n",
              "      <td>0.323333</td>\n",
              "      <td>0.056872</td>\n",
              "      <td>0.009479</td>\n",
              "      <td>0.857143</td>\n",
              "      <td>0.142857</td>\n",
              "      <td>0.495833</td>\n",
              "      <td>0.100000</td>\n",
              "      <td>1.0</td>\n",
              "      <td>-0.466667</td>\n",
              "      <td>-0.800</td>\n",
              "      <td>-0.133333</td>\n",
              "      <td>0.000000</td>\n",
              "      <td>0.000000</td>\n",
              "      <td>0.500000</td>\n",
              "      <td>0.000000</td>\n",
              "      <td>1500</td>\n",
              "    </tr>\n",
              "    <tr>\n",
              "      <th>3</th>\n",
              "      <td>http://mashable.com/2013/01/07/astronaut-notre...</td>\n",
              "      <td>731.0</td>\n",
              "      <td>9.0</td>\n",
              "      <td>531.0</td>\n",
              "      <td>0.503788</td>\n",
              "      <td>1.0</td>\n",
              "      <td>0.665635</td>\n",
              "      <td>9.0</td>\n",
              "      <td>0.0</td>\n",
              "      <td>1.0</td>\n",
              "      <td>0.0</td>\n",
              "      <td>4.404896</td>\n",
              "      <td>7.0</td>\n",
              "      <td>0.0</td>\n",
              "      <td>1.0</td>\n",
              "      <td>0.0</td>\n",
              "      <td>0.0</td>\n",
              "      <td>0.0</td>\n",
              "      <td>0.0</td>\n",
              "      <td>0.0</td>\n",
              "      <td>0.0</td>\n",
              "      <td>0.0</td>\n",
              "      <td>0.0</td>\n",
              "      <td>0.0</td>\n",
              "      <td>0.0</td>\n",
              "      <td>0.0</td>\n",
              "      <td>0.0</td>\n",
              "      <td>0.0</td>\n",
              "      <td>0.0</td>\n",
              "      <td>0.0</td>\n",
              "      <td>0.000000</td>\n",
              "      <td>1.0</td>\n",
              "      <td>0.0</td>\n",
              "      <td>0.0</td>\n",
              "      <td>0.0</td>\n",
              "      <td>0.0</td>\n",
              "      <td>0.0</td>\n",
              "      <td>0.0</td>\n",
              "      <td>0.0</td>\n",
              "      <td>0.028573</td>\n",
              "      <td>0.419300</td>\n",
              "      <td>0.494651</td>\n",
              "      <td>0.028905</td>\n",
              "      <td>0.028572</td>\n",
              "      <td>0.429850</td>\n",
              "      <td>0.100705</td>\n",
              "      <td>0.041431</td>\n",
              "      <td>0.020716</td>\n",
              "      <td>0.666667</td>\n",
              "      <td>0.333333</td>\n",
              "      <td>0.385965</td>\n",
              "      <td>0.136364</td>\n",
              "      <td>0.8</td>\n",
              "      <td>-0.369697</td>\n",
              "      <td>-0.600</td>\n",
              "      <td>-0.166667</td>\n",
              "      <td>0.000000</td>\n",
              "      <td>0.000000</td>\n",
              "      <td>0.500000</td>\n",
              "      <td>0.000000</td>\n",
              "      <td>1200</td>\n",
              "    </tr>\n",
              "    <tr>\n",
              "      <th>4</th>\n",
              "      <td>http://mashable.com/2013/01/07/att-u-verse-apps/</td>\n",
              "      <td>731.0</td>\n",
              "      <td>13.0</td>\n",
              "      <td>1072.0</td>\n",
              "      <td>0.415646</td>\n",
              "      <td>1.0</td>\n",
              "      <td>0.540890</td>\n",
              "      <td>19.0</td>\n",
              "      <td>19.0</td>\n",
              "      <td>20.0</td>\n",
              "      <td>0.0</td>\n",
              "      <td>4.682836</td>\n",
              "      <td>7.0</td>\n",
              "      <td>0.0</td>\n",
              "      <td>0.0</td>\n",
              "      <td>0.0</td>\n",
              "      <td>0.0</td>\n",
              "      <td>1.0</td>\n",
              "      <td>0.0</td>\n",
              "      <td>0.0</td>\n",
              "      <td>0.0</td>\n",
              "      <td>0.0</td>\n",
              "      <td>0.0</td>\n",
              "      <td>0.0</td>\n",
              "      <td>0.0</td>\n",
              "      <td>0.0</td>\n",
              "      <td>0.0</td>\n",
              "      <td>0.0</td>\n",
              "      <td>545.0</td>\n",
              "      <td>16000.0</td>\n",
              "      <td>3151.157895</td>\n",
              "      <td>1.0</td>\n",
              "      <td>0.0</td>\n",
              "      <td>0.0</td>\n",
              "      <td>0.0</td>\n",
              "      <td>0.0</td>\n",
              "      <td>0.0</td>\n",
              "      <td>0.0</td>\n",
              "      <td>0.0</td>\n",
              "      <td>0.028633</td>\n",
              "      <td>0.028794</td>\n",
              "      <td>0.028575</td>\n",
              "      <td>0.028572</td>\n",
              "      <td>0.885427</td>\n",
              "      <td>0.513502</td>\n",
              "      <td>0.281003</td>\n",
              "      <td>0.074627</td>\n",
              "      <td>0.012127</td>\n",
              "      <td>0.860215</td>\n",
              "      <td>0.139785</td>\n",
              "      <td>0.411127</td>\n",
              "      <td>0.033333</td>\n",
              "      <td>1.0</td>\n",
              "      <td>-0.220192</td>\n",
              "      <td>-0.500</td>\n",
              "      <td>-0.050000</td>\n",
              "      <td>0.454545</td>\n",
              "      <td>0.136364</td>\n",
              "      <td>0.045455</td>\n",
              "      <td>0.136364</td>\n",
              "      <td>505</td>\n",
              "    </tr>\n",
              "  </tbody>\n",
              "</table>\n",
              "</div>"
            ],
            "text/plain": [
              "                                                 url  ...   shares\n",
              "0  http://mashable.com/2013/01/07/amazon-instant-...  ...      593\n",
              "1  http://mashable.com/2013/01/07/ap-samsung-spon...  ...      711\n",
              "2  http://mashable.com/2013/01/07/apple-40-billio...  ...     1500\n",
              "3  http://mashable.com/2013/01/07/astronaut-notre...  ...     1200\n",
              "4   http://mashable.com/2013/01/07/att-u-verse-apps/  ...      505\n",
              "\n",
              "[5 rows x 61 columns]"
            ]
          },
          "metadata": {
            "tags": []
          },
          "execution_count": 175
        }
      ]
    },
    {
      "cell_type": "code",
      "metadata": {
        "id": "C8yDAdS_0nzv",
        "colab_type": "code",
        "colab": {
          "base_uri": "https://localhost:8080/",
          "height": 34
        },
        "outputId": "fd564f44-4c76-4a5a-923a-3bc5a51f6dd7"
      },
      "source": [
        "online_dataset.shape"
      ],
      "execution_count": 176,
      "outputs": [
        {
          "output_type": "execute_result",
          "data": {
            "text/plain": [
              "(39644, 61)"
            ]
          },
          "metadata": {
            "tags": []
          },
          "execution_count": 176
        }
      ]
    },
    {
      "cell_type": "code",
      "metadata": {
        "id": "WYaT2PXc2KOk",
        "colab_type": "code",
        "colab": {}
      },
      "source": [
        "x = online_dataset.drop(['url', ' shares'], axis= 'columns')"
      ],
      "execution_count": 0,
      "outputs": []
    },
    {
      "cell_type": "code",
      "metadata": {
        "id": "nB3UvweE2740",
        "colab_type": "code",
        "colab": {}
      },
      "source": [
        "y = online_dataset[' shares']"
      ],
      "execution_count": 0,
      "outputs": []
    },
    {
      "cell_type": "code",
      "metadata": {
        "id": "qYR1s1_A6NFL",
        "colab_type": "code",
        "colab": {}
      },
      "source": [
        "x_train, x_test, y_train, y_test = train_test_split(x,y, test_size=0.2, random_state = 10)"
      ],
      "execution_count": 0,
      "outputs": []
    },
    {
      "cell_type": "code",
      "metadata": {
        "id": "hCDnMmkcrLnP",
        "colab_type": "code",
        "colab": {
          "base_uri": "https://localhost:8080/",
          "height": 139
        },
        "outputId": "7f5ee4ec-c635-4e23-f149-523cf6f608ea"
      },
      "source": [
        "from sklearn.ensemble import RandomForestRegressor\n",
        "from sklearn.feature_selection import SelectFromModel\n",
        "clf = RandomForestRegressor(n_estimators = 100)\n",
        "clf.fit(x_train, y_train)"
      ],
      "execution_count": 246,
      "outputs": [
        {
          "output_type": "execute_result",
          "data": {
            "text/plain": [
              "RandomForestRegressor(bootstrap=True, ccp_alpha=0.0, criterion='mse',\n",
              "                      max_depth=None, max_features='auto', max_leaf_nodes=None,\n",
              "                      max_samples=None, min_impurity_decrease=0.0,\n",
              "                      min_impurity_split=None, min_samples_leaf=1,\n",
              "                      min_samples_split=2, min_weight_fraction_leaf=0.0,\n",
              "                      n_estimators=100, n_jobs=None, oob_score=False,\n",
              "                      random_state=None, verbose=0, warm_start=False)"
            ]
          },
          "metadata": {
            "tags": []
          },
          "execution_count": 246
        }
      ]
    },
    {
      "cell_type": "code",
      "metadata": {
        "id": "Ar2cJtAUrQUB",
        "colab_type": "code",
        "colab": {
          "base_uri": "https://localhost:8080/",
          "height": 278
        },
        "outputId": "75909308-090e-4fad-cd6c-1453fd3d6c8f"
      },
      "source": [
        "sel = SelectFromModel(clf)\n",
        "sel.fit(x_train, y_train)"
      ],
      "execution_count": 252,
      "outputs": [
        {
          "output_type": "execute_result",
          "data": {
            "text/plain": [
              "SelectFromModel(estimator=RandomForestRegressor(bootstrap=True, ccp_alpha=0.0,\n",
              "                                                criterion='mse', max_depth=None,\n",
              "                                                max_features='auto',\n",
              "                                                max_leaf_nodes=None,\n",
              "                                                max_samples=None,\n",
              "                                                min_impurity_decrease=0.0,\n",
              "                                                min_impurity_split=None,\n",
              "                                                min_samples_leaf=1,\n",
              "                                                min_samples_split=2,\n",
              "                                                min_weight_fraction_leaf=0.0,\n",
              "                                                n_estimators=100, n_jobs=None,\n",
              "                                                oob_score=False,\n",
              "                                                random_state=None, verbose=0,\n",
              "                                                warm_start=False),\n",
              "                max_features=None, norm_order=1, prefit=False, threshold=None)"
            ]
          },
          "metadata": {
            "tags": []
          },
          "execution_count": 252
        }
      ]
    },
    {
      "cell_type": "code",
      "metadata": {
        "id": "xUU_gAzdk5ZY",
        "colab_type": "code",
        "colab": {
          "base_uri": "https://localhost:8080/",
          "height": 139
        },
        "outputId": "eeb03a0b-79e4-44d1-8fd3-a296b8c3e4a5"
      },
      "source": [
        "sel.get_support()"
      ],
      "execution_count": 253,
      "outputs": [
        {
          "output_type": "execute_result",
          "data": {
            "text/plain": [
              "array([False, False,  True,  True, False,  True,  True, False,  True,\n",
              "       False,  True, False, False, False, False, False, False, False,\n",
              "       False,  True,  True, False, False,  True,  True,  True,  True,\n",
              "        True,  True,  True, False, False, False, False, False, False,\n",
              "       False, False,  True,  True,  True,  True,  True, False, False,\n",
              "       False, False, False, False, False, False, False,  True, False,\n",
              "       False, False, False, False, False])"
            ]
          },
          "metadata": {
            "tags": []
          },
          "execution_count": 253
        }
      ]
    },
    {
      "cell_type": "code",
      "metadata": {
        "id": "XO9OFs_qlApd",
        "colab_type": "code",
        "colab": {
          "base_uri": "https://localhost:8080/",
          "height": 34
        },
        "outputId": "0d513550-3552-4795-fe07-d5ef86d68181"
      },
      "source": [
        "selected_feat= x_train.columns[(sel.get_support())]\n",
        "len(selected_feat)"
      ],
      "execution_count": 254,
      "outputs": [
        {
          "output_type": "execute_result",
          "data": {
            "text/plain": [
              "21"
            ]
          },
          "metadata": {
            "tags": []
          },
          "execution_count": 254
        }
      ]
    },
    {
      "cell_type": "code",
      "metadata": {
        "id": "Dh1O8Jh1lA7c",
        "colab_type": "code",
        "colab": {
          "base_uri": "https://localhost:8080/",
          "height": 139
        },
        "outputId": "06bcfd2b-6de0-426a-fbca-792b2383e191"
      },
      "source": [
        "print(selected_feat)"
      ],
      "execution_count": 255,
      "outputs": [
        {
          "output_type": "stream",
          "text": [
            "Index([' n_tokens_content', ' n_unique_tokens', ' n_non_stop_unique_tokens',\n",
            "       ' num_hrefs', ' num_imgs', ' average_token_length', ' kw_max_min',\n",
            "       ' kw_avg_min', ' kw_avg_max', ' kw_min_avg', ' kw_max_avg',\n",
            "       ' kw_avg_avg', ' self_reference_min_shares',\n",
            "       ' self_reference_max_shares', ' self_reference_avg_sharess', ' LDA_00',\n",
            "       ' LDA_01', ' LDA_02', ' LDA_03', ' LDA_04', ' avg_negative_polarity'],\n",
            "      dtype='object')\n"
          ],
          "name": "stdout"
        }
      ]
    },
    {
      "cell_type": "code",
      "metadata": {
        "id": "q9ZGLrm8mUat",
        "colab_type": "code",
        "colab": {
          "base_uri": "https://localhost:8080/",
          "height": 282
        },
        "outputId": "2ca57a1c-d5d9-40ff-a4fa-b953096524f3"
      },
      "source": [
        "pd.Series(sel.estimator_.feature_importances_.ravel()).hist()"
      ],
      "execution_count": 256,
      "outputs": [
        {
          "output_type": "execute_result",
          "data": {
            "text/plain": [
              "<matplotlib.axes._subplots.AxesSubplot at 0x7f1fd3a31b70>"
            ]
          },
          "metadata": {
            "tags": []
          },
          "execution_count": 256
        },
        {
          "output_type": "display_data",
          "data": {
            "image/png": "[encoded data removed]",
            "text/plain": [
              "<Figure size 432x288 with 1 Axes>"
            ]
          },
          "metadata": {
            "tags": [],
            "needs_background": "light"
          }
        }
      ]
    },
    {
      "cell_type": "code",
      "metadata": {
        "id": "y1fhWmweCnA7",
        "colab_type": "code",
        "colab": {
          "base_uri": "https://localhost:8080/",
          "height": 139
        },
        "outputId": "a9f08d68-0e13-48f3-bd1d-eb63dafe20f9"
      },
      "source": [
        "x_train2 = x_train[selected_feat]\n",
        "x_test2 = x_test[selected_feat]\n",
        "clf.fit(x_train2, y_train)"
      ],
      "execution_count": 260,
      "outputs": [
        {
          "output_type": "execute_result",
          "data": {
            "text/plain": [
              "RandomForestRegressor(bootstrap=True, ccp_alpha=0.0, criterion='mse',\n",
              "                      max_depth=None, max_features='auto', max_leaf_nodes=None,\n",
              "                      max_samples=None, min_impurity_decrease=0.0,\n",
              "                      min_impurity_split=None, min_samples_leaf=1,\n",
              "                      min_samples_split=2, min_weight_fraction_leaf=0.0,\n",
              "                      n_estimators=100, n_jobs=None, oob_score=False,\n",
              "                      random_state=None, verbose=0, warm_start=False)"
            ]
          },
          "metadata": {
            "tags": []
          },
          "execution_count": 260
        }
      ]
    },
    {
      "cell_type": "code",
      "metadata": {
        "id": "EodZlP5hpZXs",
        "colab_type": "code",
        "colab": {}
      },
      "source": [
        "rf_res = pd.DataFrame(clf.predict(x_train2),list(y_train))"
      ],
      "execution_count": 0,
      "outputs": []
    },
    {
      "cell_type": "code",
      "metadata": {
        "id": "itB6OdBsZ59J",
        "colab_type": "code",
        "colab": {
          "base_uri": "https://localhost:8080/",
          "height": 206
        },
        "outputId": "8accf1b0-7272-4194-fb6f-9a1ee1ebfd13"
      },
      "source": [
        "rf_res.reset_index(level=0, inplace=True)\n",
        "rf_res_df = rf_res.rename(index=str, columns={\"index\": \"Actual shares\", 0: \"Predicted shares\"})\n",
        "rf_res_df.head()"
      ],
      "execution_count": 262,
      "outputs": [
        {
          "output_type": "execute_result",
          "data": {
            "text/html": [
              "<div>\n",
              "<style scoped>\n",
              "    .dataframe tbody tr th:only-of-type {\n",
              "        vertical-align: middle;\n",
              "    }\n",
              "\n",
              "    .dataframe tbody tr th {\n",
              "        vertical-align: top;\n",
              "    }\n",
              "\n",
              "    .dataframe thead th {\n",
              "        text-align: right;\n",
              "    }\n",
              "</style>\n",
              "<table border=\"1\" class=\"dataframe\">\n",
              "  <thead>\n",
              "    <tr style=\"text-align: right;\">\n",
              "      <th></th>\n",
              "      <th>Actual shares</th>\n",
              "      <th>Predicted shares</th>\n",
              "    </tr>\n",
              "  </thead>\n",
              "  <tbody>\n",
              "    <tr>\n",
              "      <th>0</th>\n",
              "      <td>2200</td>\n",
              "      <td>2759.50</td>\n",
              "    </tr>\n",
              "    <tr>\n",
              "      <th>1</th>\n",
              "      <td>728</td>\n",
              "      <td>2123.40</td>\n",
              "    </tr>\n",
              "    <tr>\n",
              "      <th>2</th>\n",
              "      <td>946</td>\n",
              "      <td>1030.29</td>\n",
              "    </tr>\n",
              "    <tr>\n",
              "      <th>3</th>\n",
              "      <td>556</td>\n",
              "      <td>955.66</td>\n",
              "    </tr>\n",
              "    <tr>\n",
              "      <th>4</th>\n",
              "      <td>1500</td>\n",
              "      <td>1622.78</td>\n",
              "    </tr>\n",
              "  </tbody>\n",
              "</table>\n",
              "</div>"
            ],
            "text/plain": [
              "   Actual shares  Predicted shares\n",
              "0           2200           2759.50\n",
              "1            728           2123.40\n",
              "2            946           1030.29\n",
              "3            556            955.66\n",
              "4           1500           1622.78"
            ]
          },
          "metadata": {
            "tags": []
          },
          "execution_count": 262
        }
      ]
    },
    {
      "cell_type": "code",
      "metadata": {
        "id": "CrEeY660cq9l",
        "colab_type": "code",
        "colab": {
          "base_uri": "https://localhost:8080/",
          "height": 226
        },
        "outputId": "3fb38127-d630-4de7-fc3a-0b6ebea47469"
      },
      "source": [
        "x_train2.head()"
      ],
      "execution_count": 263,
      "outputs": [
        {
          "output_type": "execute_result",
          "data": {
            "text/html": [
              "<div>\n",
              "<style scoped>\n",
              "    .dataframe tbody tr th:only-of-type {\n",
              "        vertical-align: middle;\n",
              "    }\n",
              "\n",
              "    .dataframe tbody tr th {\n",
              "        vertical-align: top;\n",
              "    }\n",
              "\n",
              "    .dataframe thead th {\n",
              "        text-align: right;\n",
              "    }\n",
              "</style>\n",
              "<table border=\"1\" class=\"dataframe\">\n",
              "  <thead>\n",
              "    <tr style=\"text-align: right;\">\n",
              "      <th></th>\n",
              "      <th>n_tokens_content</th>\n",
              "      <th>n_unique_tokens</th>\n",
              "      <th>n_non_stop_unique_tokens</th>\n",
              "      <th>num_hrefs</th>\n",
              "      <th>num_imgs</th>\n",
              "      <th>average_token_length</th>\n",
              "      <th>kw_max_min</th>\n",
              "      <th>kw_avg_min</th>\n",
              "      <th>kw_avg_max</th>\n",
              "      <th>kw_min_avg</th>\n",
              "      <th>kw_max_avg</th>\n",
              "      <th>kw_avg_avg</th>\n",
              "      <th>self_reference_min_shares</th>\n",
              "      <th>self_reference_max_shares</th>\n",
              "      <th>self_reference_avg_sharess</th>\n",
              "      <th>LDA_00</th>\n",
              "      <th>LDA_01</th>\n",
              "      <th>LDA_02</th>\n",
              "      <th>LDA_03</th>\n",
              "      <th>LDA_04</th>\n",
              "      <th>avg_negative_polarity</th>\n",
              "    </tr>\n",
              "  </thead>\n",
              "  <tbody>\n",
              "    <tr>\n",
              "      <th>12865</th>\n",
              "      <td>809.0</td>\n",
              "      <td>0.450382</td>\n",
              "      <td>0.638826</td>\n",
              "      <td>7.0</td>\n",
              "      <td>6.0</td>\n",
              "      <td>4.367120</td>\n",
              "      <td>2800.0</td>\n",
              "      <td>724.500000</td>\n",
              "      <td>187316.666667</td>\n",
              "      <td>0.000000</td>\n",
              "      <td>3253.475055</td>\n",
              "      <td>1899.218236</td>\n",
              "      <td>3400.0</td>\n",
              "      <td>3400.0</td>\n",
              "      <td>3400.0</td>\n",
              "      <td>0.033334</td>\n",
              "      <td>0.866579</td>\n",
              "      <td>0.033351</td>\n",
              "      <td>0.033402</td>\n",
              "      <td>0.033334</td>\n",
              "      <td>-0.406614</td>\n",
              "    </tr>\n",
              "    <tr>\n",
              "      <th>6826</th>\n",
              "      <td>342.0</td>\n",
              "      <td>0.536873</td>\n",
              "      <td>0.682692</td>\n",
              "      <td>5.0</td>\n",
              "      <td>1.0</td>\n",
              "      <td>4.719298</td>\n",
              "      <td>507.0</td>\n",
              "      <td>276.333333</td>\n",
              "      <td>482566.666667</td>\n",
              "      <td>3349.017814</td>\n",
              "      <td>3768.367816</td>\n",
              "      <td>3507.604545</td>\n",
              "      <td>0.0</td>\n",
              "      <td>0.0</td>\n",
              "      <td>0.0</td>\n",
              "      <td>0.732368</td>\n",
              "      <td>0.066667</td>\n",
              "      <td>0.066672</td>\n",
              "      <td>0.067626</td>\n",
              "      <td>0.066667</td>\n",
              "      <td>-0.366667</td>\n",
              "    </tr>\n",
              "    <tr>\n",
              "      <th>2047</th>\n",
              "      <td>350.0</td>\n",
              "      <td>0.574405</td>\n",
              "      <td>0.697674</td>\n",
              "      <td>4.0</td>\n",
              "      <td>1.0</td>\n",
              "      <td>4.905714</td>\n",
              "      <td>503.0</td>\n",
              "      <td>360.571429</td>\n",
              "      <td>21411.111111</td>\n",
              "      <td>0.000000</td>\n",
              "      <td>2851.045977</td>\n",
              "      <td>1750.986011</td>\n",
              "      <td>1400.0</td>\n",
              "      <td>1400.0</td>\n",
              "      <td>1400.0</td>\n",
              "      <td>0.292449</td>\n",
              "      <td>0.640461</td>\n",
              "      <td>0.022223</td>\n",
              "      <td>0.022454</td>\n",
              "      <td>0.022413</td>\n",
              "      <td>-0.210417</td>\n",
              "    </tr>\n",
              "    <tr>\n",
              "      <th>12859</th>\n",
              "      <td>563.0</td>\n",
              "      <td>0.508197</td>\n",
              "      <td>0.737374</td>\n",
              "      <td>8.0</td>\n",
              "      <td>1.0</td>\n",
              "      <td>4.312611</td>\n",
              "      <td>165.0</td>\n",
              "      <td>82.833333</td>\n",
              "      <td>228087.500000</td>\n",
              "      <td>0.000000</td>\n",
              "      <td>5012.670124</td>\n",
              "      <td>2489.545143</td>\n",
              "      <td>1400.0</td>\n",
              "      <td>1400.0</td>\n",
              "      <td>1400.0</td>\n",
              "      <td>0.120659</td>\n",
              "      <td>0.025298</td>\n",
              "      <td>0.331193</td>\n",
              "      <td>0.176280</td>\n",
              "      <td>0.346570</td>\n",
              "      <td>-0.254487</td>\n",
              "    </tr>\n",
              "    <tr>\n",
              "      <th>21766</th>\n",
              "      <td>286.0</td>\n",
              "      <td>0.563380</td>\n",
              "      <td>0.724551</td>\n",
              "      <td>5.0</td>\n",
              "      <td>1.0</td>\n",
              "      <td>4.734266</td>\n",
              "      <td>628.0</td>\n",
              "      <td>260.000000</td>\n",
              "      <td>162500.000000</td>\n",
              "      <td>963.000000</td>\n",
              "      <td>3582.234548</td>\n",
              "      <td>2647.340430</td>\n",
              "      <td>718.0</td>\n",
              "      <td>1200.0</td>\n",
              "      <td>959.0</td>\n",
              "      <td>0.028585</td>\n",
              "      <td>0.028572</td>\n",
              "      <td>0.172898</td>\n",
              "      <td>0.170827</td>\n",
              "      <td>0.599116</td>\n",
              "      <td>-0.306250</td>\n",
              "    </tr>\n",
              "  </tbody>\n",
              "</table>\n",
              "</div>"
            ],
            "text/plain": [
              "        n_tokens_content   n_unique_tokens  ...    LDA_04   avg_negative_polarity\n",
              "12865              809.0          0.450382  ...  0.033334               -0.406614\n",
              "6826               342.0          0.536873  ...  0.066667               -0.366667\n",
              "2047               350.0          0.574405  ...  0.022413               -0.210417\n",
              "12859              563.0          0.508197  ...  0.346570               -0.254487\n",
              "21766              286.0          0.563380  ...  0.599116               -0.306250\n",
              "\n",
              "[5 rows x 21 columns]"
            ]
          },
          "metadata": {
            "tags": []
          },
          "execution_count": 263
        }
      ]
    },
    {
      "cell_type": "code",
      "metadata": {
        "id": "03LqqJqsu_BA",
        "colab_type": "code",
        "colab": {}
      },
      "source": [
        ""
      ],
      "execution_count": 0,
      "outputs": []
    },
    {
      "cell_type": "markdown",
      "metadata": {
        "id": "RBslAWtZvQt3",
        "colab_type": "text"
      },
      "source": [
        "I trained the model, but I have some doubts regarding how to convert the dataset that I took from Times of India Website. I took help from \"https://github.com/susobhang70/OnlineNewsPopularity\"."
      ]
    }
  ]
}